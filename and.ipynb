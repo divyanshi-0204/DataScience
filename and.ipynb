{
  "nbformat": 4,
  "nbformat_minor": 0,
  "metadata": {
    "colab": {
      "provenance": []
    },
    "kernelspec": {
      "name": "python3",
      "display_name": "Python 3"
    },
    "language_info": {
      "name": "python"
    }
  },
  "cells": [
    {
      "cell_type": "code",
      "execution_count": 13,
      "metadata": {
        "colab": {
          "base_uri": "https://localhost:8080/"
        },
        "id": "6nrhA9onvmBt",
        "outputId": "95fc3b1a-984e-4893-dd92-f936e0168fcc"
      },
      "outputs": [
        {
          "output_type": "stream",
          "name": "stdout",
          "text": [
            "0.5 0.5 0.7\n"
          ]
        }
      ],
      "source": [
        "w1, w2, b = 0.5, 0.5, 0.7\n",
        "print(w1, w2, b)"
      ]
    },
    {
      "cell_type": "code",
      "source": [
        "def activate(x):\n",
        "  return 1 if x>=0 else 0"
      ],
      "metadata": {
        "id": "OozyeimbwJvb"
      },
      "execution_count": 14,
      "outputs": []
    },
    {
      "cell_type": "code",
      "source": [
        "def train_perceptron(inputs, desired_outputs, learning_rate, epochs):\n",
        "  global w1, w2, b\n",
        "  for epoch in range(epochs):\n",
        "    total_error = 0\n",
        "    for i in range(len(inputs)):\n",
        "      A,B = inputs[i]\n",
        "      target_output = desired_outputs[i]\n",
        "      output = activate(w1 * A + w2 * B + b)\n",
        "      error = target_output - output\n",
        "      w1 += learning_rate * error * A\n",
        "      w2 += learning_rate * error * B\n",
        "      b += learning_rate * error\n",
        "      total_error += abs(error)\n",
        "    if total_error == 0:\n",
        "      break"
      ],
      "metadata": {
        "id": "f98k0g7MwRqH"
      },
      "execution_count": 15,
      "outputs": []
    },
    {
      "cell_type": "code",
      "source": [
        "inputs = [(0, 0), (0, 1), (1, 0), (1, 1)]\n",
        "desired_outputs = [0, 0, 0, 1]\n",
        "learning_rate = 0.1\n",
        "epochs = 100\n",
        "\n",
        "train_perceptron(inputs, desired_outputs, learning_rate, epochs)"
      ],
      "metadata": {
        "id": "OpnpmSwQV1lc"
      },
      "execution_count": 16,
      "outputs": []
    },
    {
      "cell_type": "code",
      "source": [
        "for i in range(len(inputs)):\n",
        "    A, B = inputs[i]\n",
        "    output = activate(w1 * A + w2 * B + b)\n",
        "    print(f\"Input: ({A}, {B})  Output: {output}\")"
      ],
      "metadata": {
        "colab": {
          "base_uri": "https://localhost:8080/"
        },
        "id": "XCuICdUDWTaU",
        "outputId": "d01b6533-3884-4be2-8680-8e04da2658f2"
      },
      "execution_count": 17,
      "outputs": [
        {
          "output_type": "stream",
          "name": "stdout",
          "text": [
            "Input: (0, 0)  Output: 0\n",
            "Input: (0, 1)  Output: 0\n",
            "Input: (1, 0)  Output: 0\n",
            "Input: (1, 1)  Output: 1\n"
          ]
        }
      ]
    }
  ]
}