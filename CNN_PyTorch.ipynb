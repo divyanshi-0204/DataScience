{
  "nbformat": 4,
  "nbformat_minor": 0,
  "metadata": {
    "colab": {
      "provenance": []
    },
    "kernelspec": {
      "name": "python3",
      "display_name": "Python 3"
    },
    "language_info": {
      "name": "python"
    }
  },
  "cells": [
    {
      "cell_type": "code",
      "execution_count": 43,
      "metadata": {
        "id": "2Oxmd_cbGkzp"
      },
      "outputs": [],
      "source": [
        "import torch\n",
        "import torch.nn as nn\n",
        "import torch.nn.functional as F\n",
        "from torch.utils.data import DataLoader\n",
        "from torchvision import datasets, transforms\n",
        "from torchvision.utils import make_grid\n",
        "\n",
        "import numpy as np\n",
        "import pandas as pd\n",
        "from sklearn.metrics import confusion_matrix\n",
        "import itertools\n",
        "import matplotlib.pyplot as plt\n",
        "import seaborn as sns\n",
        "%matplotlib inline"
      ]
    },
    {
      "cell_type": "code",
      "source": [
        "#Convert MNIST Image Files into a Tensor of 4-Dimensions (# of images, Height, Width, Color Channels)\n",
        "transform = transforms.ToTensor()"
      ],
      "metadata": {
        "id": "rfBNDKN_WLPo"
      },
      "execution_count": 44,
      "outputs": []
    },
    {
      "cell_type": "code",
      "source": [
        "#Train Data\n",
        "train_data = datasets.MNIST(root='data', train=True, download=True, transform=transform)"
      ],
      "metadata": {
        "id": "9ML-M_coXZWa"
      },
      "execution_count": 45,
      "outputs": []
    },
    {
      "cell_type": "markdown",
      "source": [],
      "metadata": {
        "id": "BPdzYSkLoScr"
      }
    },
    {
      "cell_type": "code",
      "source": [
        "test_data = datasets.MNIST(root='data', train=False, download=True, transform=transform)"
      ],
      "metadata": {
        "id": "xwZB22-PXpE5"
      },
      "execution_count": 6,
      "outputs": []
    },
    {
      "cell_type": "code",
      "source": [
        "train_data"
      ],
      "metadata": {
        "colab": {
          "base_uri": "https://localhost:8080/"
        },
        "id": "WJU_z5TSXus0",
        "outputId": "7969f5a4-f99d-46c1-bc59-62a8b0b759bf"
      },
      "execution_count": 46,
      "outputs": [
        {
          "output_type": "execute_result",
          "data": {
            "text/plain": [
              "Dataset MNIST\n",
              "    Number of datapoints: 60000\n",
              "    Root location: data\n",
              "    Split: Train\n",
              "    StandardTransform\n",
              "Transform: ToTensor()"
            ]
          },
          "metadata": {},
          "execution_count": 46
        }
      ]
    },
    {
      "cell_type": "code",
      "source": [
        "test_data"
      ],
      "metadata": {
        "colab": {
          "base_uri": "https://localhost:8080/"
        },
        "id": "oJ532KlTX14s",
        "outputId": "bb5934e2-314f-45ef-acae-6c152d791335"
      },
      "execution_count": 8,
      "outputs": [
        {
          "output_type": "execute_result",
          "data": {
            "text/plain": [
              "Dataset MNIST\n",
              "    Number of datapoints: 10000\n",
              "    Root location: data\n",
              "    Split: Test\n",
              "    StandardTransform\n",
              "Transform: ToTensor()"
            ]
          },
          "metadata": {},
          "execution_count": 8
        }
      ]
    },
    {
      "cell_type": "code",
      "source": [
        "pwd"
      ],
      "metadata": {
        "colab": {
          "base_uri": "https://localhost:8080/",
          "height": 36
        },
        "id": "TUFOXR8zX3kf",
        "outputId": "0d82db7d-3593-42af-805a-12fad4de5bc3"
      },
      "execution_count": 9,
      "outputs": [
        {
          "output_type": "execute_result",
          "data": {
            "text/plain": [
              "'/content'"
            ],
            "application/vnd.google.colaboratory.intrinsic+json": {
              "type": "string"
            }
          },
          "metadata": {},
          "execution_count": 9
        }
      ]
    },
    {
      "cell_type": "code",
      "source": [
        "ls"
      ],
      "metadata": {
        "colab": {
          "base_uri": "https://localhost:8080/"
        },
        "id": "kKV8oohxX9Am",
        "outputId": "6fa1f52f-69b6-4cbf-c8e7-eaea44026968"
      },
      "execution_count": 10,
      "outputs": [
        {
          "output_type": "stream",
          "name": "stdout",
          "text": [
            "\u001b[0m\u001b[01;34mdata\u001b[0m/  \u001b[01;34msample_data\u001b[0m/\n"
          ]
        }
      ]
    },
    {
      "cell_type": "code",
      "source": [
        "#create  a small batch size of images\n",
        "train_loader = DataLoader(train_data, batch_size=10, shuffle=True)\n",
        "test_loader = DataLoader(test_data, batch_size=10, shuffle=False)"
      ],
      "metadata": {
        "id": "cwkMDKpjX-Rh"
      },
      "execution_count": 11,
      "outputs": []
    },
    {
      "cell_type": "code",
      "source": [
        "#define cnn model\n",
        "# describe convolutional layer\n",
        "conv1 = nn.Conv2d(1, 6, 3, 1)\n",
        "conv2 = nn.Conv2d(6, 16, 3, 1)"
      ],
      "metadata": {
        "id": "pDjymDqzaIa1"
      },
      "execution_count": 12,
      "outputs": []
    },
    {
      "cell_type": "code",
      "source": [
        "#grab one mnist records\n",
        "for i, (X_train, y_train) in enumerate(train_data):\n",
        "    break"
      ],
      "metadata": {
        "id": "zwLjd-zIfd_0"
      },
      "execution_count": 13,
      "outputs": []
    },
    {
      "cell_type": "code",
      "source": [
        "X_train"
      ],
      "metadata": {
        "colab": {
          "base_uri": "https://localhost:8080/"
        },
        "id": "EW2AZmLHfo8P",
        "outputId": "760127fc-08fc-4953-b162-e5ff020414c7"
      },
      "execution_count": 14,
      "outputs": [
        {
          "output_type": "execute_result",
          "data": {
            "text/plain": [
              "tensor([[[0.0000, 0.0000, 0.0000, 0.0000, 0.0000, 0.0000, 0.0000, 0.0000,\n",
              "          0.0000, 0.0000, 0.0000, 0.0000, 0.0000, 0.0000, 0.0000, 0.0000,\n",
              "          0.0000, 0.0000, 0.0000, 0.0000, 0.0000, 0.0000, 0.0000, 0.0000,\n",
              "          0.0000, 0.0000, 0.0000, 0.0000],\n",
              "         [0.0000, 0.0000, 0.0000, 0.0000, 0.0000, 0.0000, 0.0000, 0.0000,\n",
              "          0.0000, 0.0000, 0.0000, 0.0000, 0.0000, 0.0000, 0.0000, 0.0000,\n",
              "          0.0000, 0.0000, 0.0000, 0.0000, 0.0000, 0.0000, 0.0000, 0.0000,\n",
              "          0.0000, 0.0000, 0.0000, 0.0000],\n",
              "         [0.0000, 0.0000, 0.0000, 0.0000, 0.0000, 0.0000, 0.0000, 0.0000,\n",
              "          0.0000, 0.0000, 0.0000, 0.0000, 0.0000, 0.0000, 0.0000, 0.0000,\n",
              "          0.0000, 0.0000, 0.0000, 0.0000, 0.0000, 0.0000, 0.0000, 0.0000,\n",
              "          0.0000, 0.0000, 0.0000, 0.0000],\n",
              "         [0.0000, 0.0000, 0.0000, 0.0000, 0.0000, 0.0000, 0.0000, 0.0000,\n",
              "          0.0000, 0.0000, 0.0000, 0.0000, 0.0000, 0.0000, 0.0000, 0.0000,\n",
              "          0.0000, 0.0000, 0.0000, 0.0000, 0.0000, 0.0000, 0.0000, 0.0000,\n",
              "          0.0000, 0.0000, 0.0000, 0.0000],\n",
              "         [0.0000, 0.0000, 0.0000, 0.0000, 0.0000, 0.0000, 0.0000, 0.0000,\n",
              "          0.0000, 0.0000, 0.0000, 0.0000, 0.0000, 0.0000, 0.0000, 0.0000,\n",
              "          0.0000, 0.0000, 0.0000, 0.0000, 0.0000, 0.0000, 0.0000, 0.0000,\n",
              "          0.0000, 0.0000, 0.0000, 0.0000],\n",
              "         [0.0000, 0.0000, 0.0000, 0.0000, 0.0000, 0.0000, 0.0000, 0.0000,\n",
              "          0.0000, 0.0000, 0.0000, 0.0000, 0.0118, 0.0706, 0.0706, 0.0706,\n",
              "          0.4941, 0.5333, 0.6863, 0.1020, 0.6510, 1.0000, 0.9686, 0.4980,\n",
              "          0.0000, 0.0000, 0.0000, 0.0000],\n",
              "         [0.0000, 0.0000, 0.0000, 0.0000, 0.0000, 0.0000, 0.0000, 0.0000,\n",
              "          0.1176, 0.1412, 0.3686, 0.6039, 0.6667, 0.9922, 0.9922, 0.9922,\n",
              "          0.9922, 0.9922, 0.8824, 0.6745, 0.9922, 0.9490, 0.7647, 0.2510,\n",
              "          0.0000, 0.0000, 0.0000, 0.0000],\n",
              "         [0.0000, 0.0000, 0.0000, 0.0000, 0.0000, 0.0000, 0.0000, 0.1922,\n",
              "          0.9333, 0.9922, 0.9922, 0.9922, 0.9922, 0.9922, 0.9922, 0.9922,\n",
              "          0.9922, 0.9843, 0.3647, 0.3216, 0.3216, 0.2196, 0.1529, 0.0000,\n",
              "          0.0000, 0.0000, 0.0000, 0.0000],\n",
              "         [0.0000, 0.0000, 0.0000, 0.0000, 0.0000, 0.0000, 0.0000, 0.0706,\n",
              "          0.8588, 0.9922, 0.9922, 0.9922, 0.9922, 0.9922, 0.7765, 0.7137,\n",
              "          0.9686, 0.9451, 0.0000, 0.0000, 0.0000, 0.0000, 0.0000, 0.0000,\n",
              "          0.0000, 0.0000, 0.0000, 0.0000],\n",
              "         [0.0000, 0.0000, 0.0000, 0.0000, 0.0000, 0.0000, 0.0000, 0.0000,\n",
              "          0.3137, 0.6118, 0.4196, 0.9922, 0.9922, 0.8039, 0.0431, 0.0000,\n",
              "          0.1686, 0.6039, 0.0000, 0.0000, 0.0000, 0.0000, 0.0000, 0.0000,\n",
              "          0.0000, 0.0000, 0.0000, 0.0000],\n",
              "         [0.0000, 0.0000, 0.0000, 0.0000, 0.0000, 0.0000, 0.0000, 0.0000,\n",
              "          0.0000, 0.0549, 0.0039, 0.6039, 0.9922, 0.3529, 0.0000, 0.0000,\n",
              "          0.0000, 0.0000, 0.0000, 0.0000, 0.0000, 0.0000, 0.0000, 0.0000,\n",
              "          0.0000, 0.0000, 0.0000, 0.0000],\n",
              "         [0.0000, 0.0000, 0.0000, 0.0000, 0.0000, 0.0000, 0.0000, 0.0000,\n",
              "          0.0000, 0.0000, 0.0000, 0.5451, 0.9922, 0.7451, 0.0078, 0.0000,\n",
              "          0.0000, 0.0000, 0.0000, 0.0000, 0.0000, 0.0000, 0.0000, 0.0000,\n",
              "          0.0000, 0.0000, 0.0000, 0.0000],\n",
              "         [0.0000, 0.0000, 0.0000, 0.0000, 0.0000, 0.0000, 0.0000, 0.0000,\n",
              "          0.0000, 0.0000, 0.0000, 0.0431, 0.7451, 0.9922, 0.2745, 0.0000,\n",
              "          0.0000, 0.0000, 0.0000, 0.0000, 0.0000, 0.0000, 0.0000, 0.0000,\n",
              "          0.0000, 0.0000, 0.0000, 0.0000],\n",
              "         [0.0000, 0.0000, 0.0000, 0.0000, 0.0000, 0.0000, 0.0000, 0.0000,\n",
              "          0.0000, 0.0000, 0.0000, 0.0000, 0.1373, 0.9451, 0.8824, 0.6275,\n",
              "          0.4235, 0.0039, 0.0000, 0.0000, 0.0000, 0.0000, 0.0000, 0.0000,\n",
              "          0.0000, 0.0000, 0.0000, 0.0000],\n",
              "         [0.0000, 0.0000, 0.0000, 0.0000, 0.0000, 0.0000, 0.0000, 0.0000,\n",
              "          0.0000, 0.0000, 0.0000, 0.0000, 0.0000, 0.3176, 0.9412, 0.9922,\n",
              "          0.9922, 0.4667, 0.0980, 0.0000, 0.0000, 0.0000, 0.0000, 0.0000,\n",
              "          0.0000, 0.0000, 0.0000, 0.0000],\n",
              "         [0.0000, 0.0000, 0.0000, 0.0000, 0.0000, 0.0000, 0.0000, 0.0000,\n",
              "          0.0000, 0.0000, 0.0000, 0.0000, 0.0000, 0.0000, 0.1765, 0.7294,\n",
              "          0.9922, 0.9922, 0.5882, 0.1059, 0.0000, 0.0000, 0.0000, 0.0000,\n",
              "          0.0000, 0.0000, 0.0000, 0.0000],\n",
              "         [0.0000, 0.0000, 0.0000, 0.0000, 0.0000, 0.0000, 0.0000, 0.0000,\n",
              "          0.0000, 0.0000, 0.0000, 0.0000, 0.0000, 0.0000, 0.0000, 0.0627,\n",
              "          0.3647, 0.9882, 0.9922, 0.7333, 0.0000, 0.0000, 0.0000, 0.0000,\n",
              "          0.0000, 0.0000, 0.0000, 0.0000],\n",
              "         [0.0000, 0.0000, 0.0000, 0.0000, 0.0000, 0.0000, 0.0000, 0.0000,\n",
              "          0.0000, 0.0000, 0.0000, 0.0000, 0.0000, 0.0000, 0.0000, 0.0000,\n",
              "          0.0000, 0.9765, 0.9922, 0.9765, 0.2510, 0.0000, 0.0000, 0.0000,\n",
              "          0.0000, 0.0000, 0.0000, 0.0000],\n",
              "         [0.0000, 0.0000, 0.0000, 0.0000, 0.0000, 0.0000, 0.0000, 0.0000,\n",
              "          0.0000, 0.0000, 0.0000, 0.0000, 0.0000, 0.0000, 0.1804, 0.5098,\n",
              "          0.7176, 0.9922, 0.9922, 0.8118, 0.0078, 0.0000, 0.0000, 0.0000,\n",
              "          0.0000, 0.0000, 0.0000, 0.0000],\n",
              "         [0.0000, 0.0000, 0.0000, 0.0000, 0.0000, 0.0000, 0.0000, 0.0000,\n",
              "          0.0000, 0.0000, 0.0000, 0.0000, 0.1529, 0.5804, 0.8980, 0.9922,\n",
              "          0.9922, 0.9922, 0.9804, 0.7137, 0.0000, 0.0000, 0.0000, 0.0000,\n",
              "          0.0000, 0.0000, 0.0000, 0.0000],\n",
              "         [0.0000, 0.0000, 0.0000, 0.0000, 0.0000, 0.0000, 0.0000, 0.0000,\n",
              "          0.0000, 0.0000, 0.0941, 0.4471, 0.8667, 0.9922, 0.9922, 0.9922,\n",
              "          0.9922, 0.7882, 0.3059, 0.0000, 0.0000, 0.0000, 0.0000, 0.0000,\n",
              "          0.0000, 0.0000, 0.0000, 0.0000],\n",
              "         [0.0000, 0.0000, 0.0000, 0.0000, 0.0000, 0.0000, 0.0000, 0.0000,\n",
              "          0.0902, 0.2588, 0.8353, 0.9922, 0.9922, 0.9922, 0.9922, 0.7765,\n",
              "          0.3176, 0.0078, 0.0000, 0.0000, 0.0000, 0.0000, 0.0000, 0.0000,\n",
              "          0.0000, 0.0000, 0.0000, 0.0000],\n",
              "         [0.0000, 0.0000, 0.0000, 0.0000, 0.0000, 0.0000, 0.0706, 0.6706,\n",
              "          0.8588, 0.9922, 0.9922, 0.9922, 0.9922, 0.7647, 0.3137, 0.0353,\n",
              "          0.0000, 0.0000, 0.0000, 0.0000, 0.0000, 0.0000, 0.0000, 0.0000,\n",
              "          0.0000, 0.0000, 0.0000, 0.0000],\n",
              "         [0.0000, 0.0000, 0.0000, 0.0000, 0.2157, 0.6745, 0.8863, 0.9922,\n",
              "          0.9922, 0.9922, 0.9922, 0.9569, 0.5216, 0.0431, 0.0000, 0.0000,\n",
              "          0.0000, 0.0000, 0.0000, 0.0000, 0.0000, 0.0000, 0.0000, 0.0000,\n",
              "          0.0000, 0.0000, 0.0000, 0.0000],\n",
              "         [0.0000, 0.0000, 0.0000, 0.0000, 0.5333, 0.9922, 0.9922, 0.9922,\n",
              "          0.8314, 0.5294, 0.5176, 0.0627, 0.0000, 0.0000, 0.0000, 0.0000,\n",
              "          0.0000, 0.0000, 0.0000, 0.0000, 0.0000, 0.0000, 0.0000, 0.0000,\n",
              "          0.0000, 0.0000, 0.0000, 0.0000],\n",
              "         [0.0000, 0.0000, 0.0000, 0.0000, 0.0000, 0.0000, 0.0000, 0.0000,\n",
              "          0.0000, 0.0000, 0.0000, 0.0000, 0.0000, 0.0000, 0.0000, 0.0000,\n",
              "          0.0000, 0.0000, 0.0000, 0.0000, 0.0000, 0.0000, 0.0000, 0.0000,\n",
              "          0.0000, 0.0000, 0.0000, 0.0000],\n",
              "         [0.0000, 0.0000, 0.0000, 0.0000, 0.0000, 0.0000, 0.0000, 0.0000,\n",
              "          0.0000, 0.0000, 0.0000, 0.0000, 0.0000, 0.0000, 0.0000, 0.0000,\n",
              "          0.0000, 0.0000, 0.0000, 0.0000, 0.0000, 0.0000, 0.0000, 0.0000,\n",
              "          0.0000, 0.0000, 0.0000, 0.0000],\n",
              "         [0.0000, 0.0000, 0.0000, 0.0000, 0.0000, 0.0000, 0.0000, 0.0000,\n",
              "          0.0000, 0.0000, 0.0000, 0.0000, 0.0000, 0.0000, 0.0000, 0.0000,\n",
              "          0.0000, 0.0000, 0.0000, 0.0000, 0.0000, 0.0000, 0.0000, 0.0000,\n",
              "          0.0000, 0.0000, 0.0000, 0.0000]]])"
            ]
          },
          "metadata": {},
          "execution_count": 14
        }
      ]
    },
    {
      "cell_type": "code",
      "source": [
        "X_train.shape"
      ],
      "metadata": {
        "colab": {
          "base_uri": "https://localhost:8080/"
        },
        "id": "MxsN4pbOfsT7",
        "outputId": "c0be6a86-6d87-47fd-eca8-da79b9c915cf"
      },
      "execution_count": 15,
      "outputs": [
        {
          "output_type": "execute_result",
          "data": {
            "text/plain": [
              "torch.Size([1, 28, 28])"
            ]
          },
          "metadata": {},
          "execution_count": 15
        }
      ]
    },
    {
      "cell_type": "code",
      "source": [
        "x = X_train.view(1, 1, 28, 28)"
      ],
      "metadata": {
        "id": "mKI2nU0rfuu3"
      },
      "execution_count": 16,
      "outputs": []
    },
    {
      "cell_type": "code",
      "source": [
        "#perform first convolution\n",
        "x = F.relu(conv1(x))"
      ],
      "metadata": {
        "id": "5rYJU9bnf1Y-"
      },
      "execution_count": 17,
      "outputs": []
    },
    {
      "cell_type": "code",
      "source": [
        "x.shape"
      ],
      "metadata": {
        "colab": {
          "base_uri": "https://localhost:8080/"
        },
        "id": "xzi9nxsHgFw5",
        "outputId": "5836eee8-cb67-4586-806e-d13b192b4259"
      },
      "execution_count": 18,
      "outputs": [
        {
          "output_type": "execute_result",
          "data": {
            "text/plain": [
              "torch.Size([1, 6, 26, 26])"
            ]
          },
          "metadata": {},
          "execution_count": 18
        }
      ]
    },
    {
      "cell_type": "code",
      "source": [
        "x = F.max_pool2d(x, 2, 2) #kernel of 2 and stride of 23"
      ],
      "metadata": {
        "id": "bT5xW0ODgIzk"
      },
      "execution_count": 19,
      "outputs": []
    },
    {
      "cell_type": "code",
      "source": [
        "x.shape"
      ],
      "metadata": {
        "colab": {
          "base_uri": "https://localhost:8080/"
        },
        "id": "sogcrEmRgpNI",
        "outputId": "68c515e4-2b1c-4f05-d5f5-b4bb164452de"
      },
      "execution_count": 20,
      "outputs": [
        {
          "output_type": "execute_result",
          "data": {
            "text/plain": [
              "torch.Size([1, 6, 13, 13])"
            ]
          },
          "metadata": {},
          "execution_count": 20
        }
      ]
    },
    {
      "cell_type": "code",
      "source": [
        "#2nd convolution\n",
        "x = F.relu(conv2(x))"
      ],
      "metadata": {
        "id": "d22WoncUg143"
      },
      "execution_count": 21,
      "outputs": []
    },
    {
      "cell_type": "code",
      "source": [
        "x.shape #didn't set padding, lose 2 pixels around the"
      ],
      "metadata": {
        "colab": {
          "base_uri": "https://localhost:8080/"
        },
        "id": "sM2j5bS0g8Ap",
        "outputId": "6cfde62c-332d-4db7-e1f4-1d4871773e17"
      },
      "execution_count": 22,
      "outputs": [
        {
          "output_type": "execute_result",
          "data": {
            "text/plain": [
              "torch.Size([1, 16, 11, 11])"
            ]
          },
          "metadata": {},
          "execution_count": 22
        }
      ]
    },
    {
      "cell_type": "code",
      "source": [
        "x = F.max_pool2d(x, 2, 2)"
      ],
      "metadata": {
        "id": "FROlhh8bg__7"
      },
      "execution_count": 23,
      "outputs": []
    },
    {
      "cell_type": "code",
      "source": [
        "x.shape"
      ],
      "metadata": {
        "colab": {
          "base_uri": "https://localhost:8080/"
        },
        "id": "oFmoNiw-hMo2",
        "outputId": "051cc6ba-68c8-4ad6-8463-7f8fb29dc0b3"
      },
      "execution_count": 24,
      "outputs": [
        {
          "output_type": "execute_result",
          "data": {
            "text/plain": [
              "torch.Size([1, 16, 5, 5])"
            ]
          },
          "metadata": {},
          "execution_count": 24
        }
      ]
    },
    {
      "cell_type": "code",
      "source": [
        "#Model Class\n",
        "class ConvolutionalNeuralNetwork(nn.Module):\n",
        "  def __init__(self):\n",
        "    super().__init__()\n",
        "    self.conv1 = nn.Conv2d(1, 6, 3, 1)\n",
        "    self.conv2 = nn.Conv2d(6, 16, 3, 1)\n",
        "    #fully connected\n",
        "    self.fc1 = nn.Linear(5*5*16, 120)\n",
        "    self.fc2 = nn.Linear(120, 84)\n",
        "    self.fc3 = nn.Linear(84, 10)\n",
        "\n",
        "  def forward(self, X):\n",
        "    X = F.relu(self.conv1(X))\n",
        "    X = F.max_pool2d(X, 2, 2)\n",
        "\n",
        "    X = F.relu(self.conv2(X))\n",
        "    X = F.max_pool2d(X, 2, 2)\n",
        "\n",
        "    #Review to flatten\n",
        "    X = X.view(-1, 5*5*16)   #negative to one so that we can vary thr batch size\n",
        "\n",
        "    #fully connected layers\n",
        "    X = F.relu(self.fc1(X))\n",
        "    X = F.relu(self.fc2(X))\n",
        "    X = self.fc3(X)\n",
        "    return F.log_softmax(X, dim=1)"
      ],
      "metadata": {
        "id": "nNwWDhGphNSN"
      },
      "execution_count": 27,
      "outputs": []
    },
    {
      "cell_type": "code",
      "source": [
        "#create an instance for our model\n",
        "torch.manual_seed(41)\n",
        "model = ConvolutionalNeuralNetwork()\n",
        "model"
      ],
      "metadata": {
        "colab": {
          "base_uri": "https://localhost:8080/"
        },
        "id": "sMdfXviaisUC",
        "outputId": "c3c24989-fb1c-41f1-ac0f-ffd00743bb10"
      },
      "execution_count": 28,
      "outputs": [
        {
          "output_type": "execute_result",
          "data": {
            "text/plain": [
              "ConvolutionalNeuralNetwork(\n",
              "  (conv1): Conv2d(1, 6, kernel_size=(3, 3), stride=(1, 1))\n",
              "  (conv2): Conv2d(6, 16, kernel_size=(3, 3), stride=(1, 1))\n",
              "  (fc1): Linear(in_features=400, out_features=120, bias=True)\n",
              "  (fc2): Linear(in_features=120, out_features=84, bias=True)\n",
              "  (fc3): Linear(in_features=84, out_features=10, bias=True)\n",
              ")"
            ]
          },
          "metadata": {},
          "execution_count": 28
        }
      ]
    },
    {
      "cell_type": "code",
      "source": [
        "#Loss function optimizer\n",
        "criterion = nn.CrossEntropyLoss()\n",
        "optimizer = torch.optim.Adam(model.parameters(), lr=0.001)        #smaller learning rate, more time to train"
      ],
      "metadata": {
        "id": "dtb33vRxi4vl"
      },
      "execution_count": 29,
      "outputs": []
    },
    {
      "cell_type": "code",
      "source": [
        "import time\n",
        "start_time = time.time()\n",
        "\n",
        "#Create variables to rack things\n",
        "epochs = 5\n",
        "train_losses = []\n",
        "test_losses = []\n",
        "train_correct = []\n",
        "test_correct = []\n",
        "\n",
        "#for loop for epochs\n",
        "for i in range(epochs):\n",
        "  train_corr = 0\n",
        "  test_corr = 0\n",
        "\n",
        "  #Train\n",
        "  for batch, (X_train, y_train) in enumerate(train_loader):\n",
        "    batch += 1 #start our batches at 1\n",
        "    y_pred = model(X_train)\n",
        "    loss = criterion(y_pred,y_train)\n",
        "\n",
        "    predicted = torch.max(y_pred.data, 1)[1]            #add the no to correct predictions. Indexed off the first point\n",
        "    batch_corr = (predicted == y_train).sum()            #how many we got correct from this batch\n",
        "    train_corr += batch_corr\n",
        "\n",
        "\n",
        "    #update our parameters\n",
        "    optimizer.zero_grad()\n",
        "    loss.backward()\n",
        "    optimizer.step()\n",
        "\n",
        "    #print out some results\n",
        "    if batch % 200 == 0:\n",
        "      print(f'Epoch: {i} Batch: {batch} Loss: {loss.item()}')\n",
        "\n",
        "  train_losses.append(loss)\n",
        "  train_correct.append(train_corr)\n",
        "\n",
        "\n",
        "  #Test\n",
        "  with torch.no_grad():   #No gradient so we don't update our weights and biases with test\n",
        "    for batch, (X_test, y_test) in enumerate(test_loader):\n",
        "      y_val = model(X_test)\n",
        "      predicted = torch.max(y_val.data, 1)[1]            #adding up correct predictions\n",
        "      test_corr += (predicted == y_test).sum()\n",
        "\n",
        "\n",
        "    loss = criterion(y_val, y_test)\n",
        "    test_losses.append(loss)\n",
        "    test_correct.append(test_corr)\n",
        "\n",
        "\n",
        "\n",
        "\n",
        "\n",
        "current_time = time.time()\n",
        "total_time = current_time - start_time\n",
        "print(f'Training Took: {total_time/60} minutes!')"
      ],
      "metadata": {
        "colab": {
          "base_uri": "https://localhost:8080/"
        },
        "id": "qDk7KyuLjQJQ",
        "outputId": "a0145ccb-c1a3-449c-99c1-511ba2697b67"
      },
      "execution_count": 37,
      "outputs": [
        {
          "output_type": "stream",
          "name": "stdout",
          "text": [
            "Epoch: 0 Batch: 200 Loss: 0.5736042261123657\n",
            "Epoch: 0 Batch: 400 Loss: 0.2891865372657776\n",
            "Epoch: 0 Batch: 600 Loss: 0.1799113005399704\n",
            "Epoch: 0 Batch: 800 Loss: 0.29122111201286316\n",
            "Epoch: 0 Batch: 1000 Loss: 0.050317902117967606\n",
            "Epoch: 0 Batch: 1200 Loss: 0.2360541820526123\n",
            "Epoch: 0 Batch: 1400 Loss: 0.6602636575698853\n",
            "Epoch: 0 Batch: 1600 Loss: 0.06507696211338043\n",
            "Epoch: 0 Batch: 1800 Loss: 0.016516011208295822\n",
            "Epoch: 0 Batch: 2000 Loss: 0.01824507862329483\n",
            "Epoch: 0 Batch: 2200 Loss: 0.010132698342204094\n",
            "Epoch: 0 Batch: 2400 Loss: 0.11891243606805801\n",
            "Epoch: 0 Batch: 2600 Loss: 0.12045158445835114\n",
            "Epoch: 0 Batch: 2800 Loss: 0.2515462040901184\n",
            "Epoch: 0 Batch: 3000 Loss: 0.09155439585447311\n",
            "Epoch: 0 Batch: 3200 Loss: 0.35212475061416626\n",
            "Epoch: 0 Batch: 3400 Loss: 0.005924412049353123\n",
            "Epoch: 0 Batch: 3600 Loss: 0.01931670866906643\n",
            "Epoch: 0 Batch: 3800 Loss: 0.015211723744869232\n",
            "Epoch: 0 Batch: 4000 Loss: 0.003487108740955591\n",
            "Epoch: 0 Batch: 4200 Loss: 0.029946219176054\n",
            "Epoch: 0 Batch: 4400 Loss: 0.01040116511285305\n",
            "Epoch: 0 Batch: 4600 Loss: 0.03468102961778641\n",
            "Epoch: 0 Batch: 4800 Loss: 0.07224021852016449\n",
            "Epoch: 0 Batch: 5000 Loss: 0.0009473951649852097\n",
            "Epoch: 0 Batch: 5200 Loss: 0.01625007390975952\n",
            "Epoch: 0 Batch: 5400 Loss: 0.02951863966882229\n",
            "Epoch: 0 Batch: 5600 Loss: 0.029929136857390404\n",
            "Epoch: 0 Batch: 5800 Loss: 0.0013042277423664927\n",
            "Epoch: 0 Batch: 6000 Loss: 0.010667102411389351\n",
            "Epoch: 1 Batch: 200 Loss: 0.0008130945498123765\n",
            "Epoch: 1 Batch: 400 Loss: 0.0027503985911607742\n",
            "Epoch: 1 Batch: 600 Loss: 0.004821421578526497\n",
            "Epoch: 1 Batch: 800 Loss: 0.002932835603132844\n",
            "Epoch: 1 Batch: 1000 Loss: 0.05250810459256172\n",
            "Epoch: 1 Batch: 1200 Loss: 0.03222741559147835\n",
            "Epoch: 1 Batch: 1400 Loss: 0.009029167704284191\n",
            "Epoch: 1 Batch: 1600 Loss: 0.027673572301864624\n",
            "Epoch: 1 Batch: 1800 Loss: 0.008685048669576645\n",
            "Epoch: 1 Batch: 2000 Loss: 0.1682279258966446\n",
            "Epoch: 1 Batch: 2200 Loss: 0.14996789395809174\n",
            "Epoch: 1 Batch: 2400 Loss: 0.35324811935424805\n",
            "Epoch: 1 Batch: 2600 Loss: 0.007313890848308802\n",
            "Epoch: 1 Batch: 2800 Loss: 0.007268819957971573\n",
            "Epoch: 1 Batch: 3000 Loss: 0.0032359883189201355\n",
            "Epoch: 1 Batch: 3200 Loss: 0.0008079250110313296\n",
            "Epoch: 1 Batch: 3400 Loss: 0.3389255702495575\n",
            "Epoch: 1 Batch: 3600 Loss: 0.0015662291552871466\n",
            "Epoch: 1 Batch: 3800 Loss: 0.005448333919048309\n",
            "Epoch: 1 Batch: 4000 Loss: 0.002762789139524102\n",
            "Epoch: 1 Batch: 4200 Loss: 0.0012184312799945474\n",
            "Epoch: 1 Batch: 4400 Loss: 0.0021501309238374233\n",
            "Epoch: 1 Batch: 4600 Loss: 0.0081560630351305\n",
            "Epoch: 1 Batch: 4800 Loss: 0.1271047294139862\n",
            "Epoch: 1 Batch: 5000 Loss: 0.0005310315173119307\n",
            "Epoch: 1 Batch: 5200 Loss: 0.0017953024944290519\n",
            "Epoch: 1 Batch: 5400 Loss: 0.00048432761104777455\n",
            "Epoch: 1 Batch: 5600 Loss: 0.0013800242450088263\n",
            "Epoch: 1 Batch: 5800 Loss: 0.34623199701309204\n",
            "Epoch: 1 Batch: 6000 Loss: 0.041201844811439514\n",
            "Epoch: 2 Batch: 200 Loss: 0.07507817447185516\n",
            "Epoch: 2 Batch: 400 Loss: 0.0032192463986575603\n",
            "Epoch: 2 Batch: 600 Loss: 0.00046468916116282344\n",
            "Epoch: 2 Batch: 800 Loss: 0.00022218558297026902\n",
            "Epoch: 2 Batch: 1000 Loss: 0.005940362811088562\n",
            "Epoch: 2 Batch: 1200 Loss: 0.03650369495153427\n",
            "Epoch: 2 Batch: 1400 Loss: 0.001234854687936604\n",
            "Epoch: 2 Batch: 1600 Loss: 0.029483836144208908\n",
            "Epoch: 2 Batch: 1800 Loss: 0.003202444640919566\n",
            "Epoch: 2 Batch: 2000 Loss: 0.01462315022945404\n",
            "Epoch: 2 Batch: 2200 Loss: 0.01712046191096306\n",
            "Epoch: 2 Batch: 2400 Loss: 0.0009219090570695698\n",
            "Epoch: 2 Batch: 2600 Loss: 9.160692570731044e-05\n",
            "Epoch: 2 Batch: 2800 Loss: 0.0002619618026074022\n",
            "Epoch: 2 Batch: 3000 Loss: 0.0029519102536141872\n",
            "Epoch: 2 Batch: 3200 Loss: 0.7713309526443481\n",
            "Epoch: 2 Batch: 3400 Loss: 0.0013266303576529026\n",
            "Epoch: 2 Batch: 3600 Loss: 0.10590966790914536\n",
            "Epoch: 2 Batch: 3800 Loss: 0.9171870350837708\n",
            "Epoch: 2 Batch: 4000 Loss: 0.0037109560798853636\n",
            "Epoch: 2 Batch: 4200 Loss: 0.013525051064789295\n",
            "Epoch: 2 Batch: 4400 Loss: 5.1279388571856543e-05\n",
            "Epoch: 2 Batch: 4600 Loss: 0.0037816171534359455\n",
            "Epoch: 2 Batch: 4800 Loss: 0.0006313245976343751\n",
            "Epoch: 2 Batch: 5000 Loss: 0.0022007443476468325\n",
            "Epoch: 2 Batch: 5200 Loss: 0.015943685546517372\n",
            "Epoch: 2 Batch: 5400 Loss: 0.00047281174920499325\n",
            "Epoch: 2 Batch: 5600 Loss: 0.17698583006858826\n",
            "Epoch: 2 Batch: 5800 Loss: 0.013254346325993538\n",
            "Epoch: 2 Batch: 6000 Loss: 0.03412826731801033\n",
            "Epoch: 3 Batch: 200 Loss: 0.004761912859976292\n",
            "Epoch: 3 Batch: 400 Loss: 0.19896060228347778\n",
            "Epoch: 3 Batch: 600 Loss: 5.0243041187059134e-05\n",
            "Epoch: 3 Batch: 800 Loss: 0.00012653051817324013\n",
            "Epoch: 3 Batch: 1000 Loss: 0.00010106184345204383\n",
            "Epoch: 3 Batch: 1200 Loss: 0.027350272983312607\n",
            "Epoch: 3 Batch: 1400 Loss: 0.033234260976314545\n",
            "Epoch: 3 Batch: 1600 Loss: 0.004632171709090471\n",
            "Epoch: 3 Batch: 1800 Loss: 0.01600729487836361\n",
            "Epoch: 3 Batch: 2000 Loss: 0.004464944824576378\n",
            "Epoch: 3 Batch: 2200 Loss: 0.0002743979566730559\n",
            "Epoch: 3 Batch: 2400 Loss: 0.00014014568296261132\n",
            "Epoch: 3 Batch: 2600 Loss: 0.1333044022321701\n",
            "Epoch: 3 Batch: 2800 Loss: 0.003065836848691106\n",
            "Epoch: 3 Batch: 3000 Loss: 0.011410566046833992\n",
            "Epoch: 3 Batch: 3200 Loss: 0.005585170816630125\n",
            "Epoch: 3 Batch: 3400 Loss: 0.0025897673331201077\n",
            "Epoch: 3 Batch: 3600 Loss: 0.002170444233343005\n",
            "Epoch: 3 Batch: 3800 Loss: 0.00011759279004763812\n",
            "Epoch: 3 Batch: 4000 Loss: 0.00010908250987995416\n",
            "Epoch: 3 Batch: 4200 Loss: 0.0004464301746338606\n",
            "Epoch: 3 Batch: 4400 Loss: 0.0006279689841903746\n",
            "Epoch: 3 Batch: 4600 Loss: 4.061171421199106e-05\n",
            "Epoch: 3 Batch: 4800 Loss: 0.0012452930677682161\n",
            "Epoch: 3 Batch: 5000 Loss: 0.0022743798326700926\n",
            "Epoch: 3 Batch: 5200 Loss: 0.06096486374735832\n",
            "Epoch: 3 Batch: 5400 Loss: 7.707024633418769e-05\n",
            "Epoch: 3 Batch: 5600 Loss: 0.00660728570073843\n",
            "Epoch: 3 Batch: 5800 Loss: 0.006114020012319088\n",
            "Epoch: 3 Batch: 6000 Loss: 7.470966374967247e-05\n",
            "Epoch: 4 Batch: 200 Loss: 0.0023505869321525097\n",
            "Epoch: 4 Batch: 400 Loss: 0.0012388232862576842\n",
            "Epoch: 4 Batch: 600 Loss: 9.594335278961807e-05\n",
            "Epoch: 4 Batch: 800 Loss: 0.004298371262848377\n",
            "Epoch: 4 Batch: 1000 Loss: 0.00038744782796129584\n",
            "Epoch: 4 Batch: 1200 Loss: 1.5115101632545702e-05\n",
            "Epoch: 4 Batch: 1400 Loss: 0.0007871434791013598\n",
            "Epoch: 4 Batch: 1600 Loss: 0.05569220706820488\n",
            "Epoch: 4 Batch: 1800 Loss: 2.975077040900942e-05\n",
            "Epoch: 4 Batch: 2000 Loss: 0.00023019635409582406\n",
            "Epoch: 4 Batch: 2200 Loss: 0.09870119392871857\n",
            "Epoch: 4 Batch: 2400 Loss: 1.600914947630372e-05\n",
            "Epoch: 4 Batch: 2600 Loss: 0.2301482856273651\n",
            "Epoch: 4 Batch: 2800 Loss: 0.021182499825954437\n",
            "Epoch: 4 Batch: 3000 Loss: 5.517365570995025e-05\n",
            "Epoch: 4 Batch: 3200 Loss: 2.8787681003450416e-05\n",
            "Epoch: 4 Batch: 3400 Loss: 0.0005598519928753376\n",
            "Epoch: 4 Batch: 3600 Loss: 0.012047817930579185\n",
            "Epoch: 4 Batch: 3800 Loss: 0.00014550372725352645\n",
            "Epoch: 4 Batch: 4000 Loss: 2.2672935301670805e-05\n",
            "Epoch: 4 Batch: 4200 Loss: 0.008505884557962418\n",
            "Epoch: 4 Batch: 4400 Loss: 0.17578889429569244\n",
            "Epoch: 4 Batch: 4600 Loss: 0.0023363507352769375\n",
            "Epoch: 4 Batch: 4800 Loss: 0.0003000321739818901\n",
            "Epoch: 4 Batch: 5000 Loss: 0.002918930258601904\n",
            "Epoch: 4 Batch: 5200 Loss: 0.0043810466304421425\n",
            "Epoch: 4 Batch: 5400 Loss: 0.0031996865291148424\n",
            "Epoch: 4 Batch: 5600 Loss: 0.0006403418956324458\n",
            "Epoch: 4 Batch: 5800 Loss: 0.004394699819386005\n",
            "Epoch: 4 Batch: 6000 Loss: 0.0002659326419234276\n",
            "Training Took: 4.131837018330892 minutes!\n"
          ]
        }
      ]
    },
    {
      "cell_type": "code",
      "source": [
        "train_losses = [t1.item() if hasattr(t1,'item') else t1 for t1 in train_losses]\n",
        "plt.plot(train_losses, label='Training Loss')\n",
        "plt.plot(test_losses, label='Test Loss')\n",
        "plt.title('Loss at Epoch')\n",
        "plt.legend()"
      ],
      "metadata": {
        "colab": {
          "base_uri": "https://localhost:8080/",
          "height": 469
        },
        "id": "8nS2zLEOnXB3",
        "outputId": "b1555149-50f2-4b1e-a696-d2d8c5ac9366"
      },
      "execution_count": 50,
      "outputs": [
        {
          "output_type": "execute_result",
          "data": {
            "text/plain": [
              "<matplotlib.legend.Legend at 0x7ba1ba2fac20>"
            ]
          },
          "metadata": {},
          "execution_count": 50
        },
        {
          "output_type": "display_data",
          "data": {
            "text/plain": [
              "<Figure size 640x480 with 1 Axes>"
            ],
            "image/png": "[encoded data removed]"
          },
          "metadata": {}
        }
      ]
    },
    {
      "cell_type": "code",
      "source": [
        "#accuracy\n",
        "plt.plot([t/600 for t in train_correct], label=\"Training Accuracy\")\n",
        "plt.plot([t/100 for t in test_correct], label=\"Test Accuracy)\")\n",
        "plt.title(\"Accuracy at the End of Each Epoch\")\n",
        "plt.legend()"
      ],
      "metadata": {
        "colab": {
          "base_uri": "https://localhost:8080/",
          "height": 469
        },
        "id": "tpeVtNHInu72",
        "outputId": "23785188-7d44-4932-af1e-5f12ff9147ab"
      },
      "execution_count": 40,
      "outputs": [
        {
          "output_type": "execute_result",
          "data": {
            "text/plain": [
              "<matplotlib.legend.Legend at 0x7ba1bbb7fe50>"
            ]
          },
          "metadata": {},
          "execution_count": 40
        },
        {
          "output_type": "display_data",
          "data": {
            "text/plain": [
              "<Figure size 640x480 with 1 Axes>"
            ],
            "image/png": "[encoded data removed]"
          },
          "metadata": {}
        }
      ]
    },
    {
      "cell_type": "code",
      "source": [
        "test_load_everything = DataLoader(test_data, batch_size=10000, shuffle=False)"
      ],
      "metadata": {
        "id": "l7nl9ufYo5rx"
      },
      "execution_count": 51,
      "outputs": []
    },
    {
      "cell_type": "code",
      "source": [
        "with torch.no_grad():\n",
        "  correct = 0\n",
        "  for X_test, y_test in test_load_everything:\n",
        "    y_val = model(X_test)\n",
        "    predicted = torch.max(y_val.data, 1)[1]\n",
        "    correct += (predicted == y_test).sum()"
      ],
      "metadata": {
        "id": "Oh4im1-xpFd9"
      },
      "execution_count": 52,
      "outputs": []
    },
    {
      "cell_type": "code",
      "source": [
        "correct.item()/len(test_data)"
      ],
      "metadata": {
        "colab": {
          "base_uri": "https://localhost:8080/"
        },
        "id": "QAzUtoPxpQAU",
        "outputId": "7c04fb9e-cd9e-41f8-920a-26a105658ae1"
      },
      "execution_count": 54,
      "outputs": [
        {
          "output_type": "execute_result",
          "data": {
            "text/plain": [
              "0.9894"
            ]
          },
          "metadata": {},
          "execution_count": 54
        }
      ]
    },
    {
      "cell_type": "code",
      "source": [
        "from sklearn.metrics import accuracy_score"
      ],
      "metadata": {
        "id": "bKdngyuZqUNO"
      },
      "execution_count": 57,
      "outputs": []
    },
    {
      "cell_type": "code",
      "source": [
        "print(accuracy_score)"
      ],
      "metadata": {
        "colab": {
          "base_uri": "https://localhost:8080/"
        },
        "id": "sfqkPjnQqo_h",
        "outputId": "119e5ad4-3d26-45b5-c70d-be4c0c9b5fbc"
      },
      "execution_count": 58,
      "outputs": [
        {
          "output_type": "stream",
          "name": "stdout",
          "text": [
            "<function accuracy_score at 0x7ba1bcddc4c0>\n"
          ]
        }
      ]
    }
  ]
}